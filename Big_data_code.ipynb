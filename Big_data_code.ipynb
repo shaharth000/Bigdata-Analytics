{
  "nbformat": 4,
  "nbformat_minor": 0,
  "metadata": {
    "colab": {
      "provenance": []
    },
    "kernelspec": {
      "name": "python3",
      "display_name": "Python 3"
    },
    "language_info": {
      "name": "python"
    }
  },
  "cells": [
    {
      "cell_type": "code",
      "execution_count": 1,
      "metadata": {
        "colab": {
          "base_uri": "https://localhost:8080/"
        },
        "id": "avneV9U9KvDB",
        "outputId": "58c7b35b-e17b-42fc-ecfa-649506fedc93"
      },
      "outputs": [
        {
          "output_type": "stream",
          "name": "stdout",
          "text": [
            "Collecting pyspark==3.0.0\n",
            "  Downloading pyspark-3.0.0.tar.gz (204.7 MB)\n",
            "\u001b[2K     \u001b[90m━━━━━━━━━━━━━━━━━━━━━━━━━━━━━━━━━━━━━━━━\u001b[0m \u001b[32m204.7/204.7 MB\u001b[0m \u001b[31m5.9 MB/s\u001b[0m eta \u001b[36m0:00:00\u001b[0m\n",
            "\u001b[?25h  Preparing metadata (setup.py) ... \u001b[?25l\u001b[?25hdone\n",
            "Collecting py4j==0.10.9 (from pyspark==3.0.0)\n",
            "  Downloading py4j-0.10.9-py2.py3-none-any.whl.metadata (1.3 kB)\n",
            "Downloading py4j-0.10.9-py2.py3-none-any.whl (198 kB)\n",
            "\u001b[2K   \u001b[90m━━━━━━━━━━━━━━━━━━━━━━━━━━━━━━━━━━━━━━━━\u001b[0m \u001b[32m198.6/198.6 kB\u001b[0m \u001b[31m13.9 MB/s\u001b[0m eta \u001b[36m0:00:00\u001b[0m\n",
            "\u001b[?25hBuilding wheels for collected packages: pyspark\n",
            "  Building wheel for pyspark (setup.py) ... \u001b[?25l\u001b[?25hdone\n",
            "  Created wheel for pyspark: filename=pyspark-3.0.0-py2.py3-none-any.whl size=205044158 sha256=5ff5581961c9527d885747a9610b6c339c4fe3c41f89921bad33468710a4dbb8\n",
            "  Stored in directory: /root/.cache/pip/wheels/b1/bb/8b/ca24d3f756f2ed967225b0871898869db676eb5846df5adc56\n",
            "Successfully built pyspark\n",
            "Installing collected packages: py4j, pyspark\n",
            "  Attempting uninstall: py4j\n",
            "    Found existing installation: py4j 0.10.9.7\n",
            "    Uninstalling py4j-0.10.9.7:\n",
            "      Successfully uninstalled py4j-0.10.9.7\n",
            "Successfully installed py4j-0.10.9 pyspark-3.0.0\n",
            "Collecting findspark\n",
            "  Downloading findspark-2.0.1-py2.py3-none-any.whl.metadata (352 bytes)\n",
            "Downloading findspark-2.0.1-py2.py3-none-any.whl (4.4 kB)\n",
            "Installing collected packages: findspark\n",
            "Successfully installed findspark-2.0.1\n"
          ]
        }
      ],
      "source": [
        "!pip install pyspark==3.0.0\n",
        "!pip install findspark"
      ]
    },
    {
      "cell_type": "code",
      "source": [
        "from pyspark.sql import SparkSession\n",
        "from pyspark.sql import SparkSession\n",
        "from pyspark.sql.functions import col, mean, count, when, lit\n",
        "from pyspark.ml.feature import StringIndexer, OneHotEncoder, VectorAssembler, StandardScaler\n",
        "from pyspark.ml.classification import LogisticRegression, DecisionTreeClassifier, RandomForestClassifier, GBTClassifier\n",
        "from pyspark.ml.evaluation import MulticlassClassificationEvaluator\n",
        "\n",
        "spark=SparkSession.builder.appName(\"Accidentseverityclassification\").getOrCreate()\n",
        "\n",
        "df=spark.read.csv(\"/content/RTA Dataset.csv\",header=True,inferSchema=True)"
      ],
      "metadata": {
        "id": "_6m5t7RSLbiY"
      },
      "execution_count": 2,
      "outputs": []
    },
    {
      "cell_type": "code",
      "source": [
        "df.show()"
      ],
      "metadata": {
        "colab": {
          "base_uri": "https://localhost:8080/"
        },
        "id": "6-HALCKULiDs",
        "outputId": "079f1bd8-8ea7-47db-c026-05689972db49"
      },
      "execution_count": 3,
      "outputs": [
        {
          "output_type": "stream",
          "name": "stdout",
          "text": [
            "+--------+-----------+------------------+-------------+------------------+-----------------------+------------------+--------------------+----------------+-----------------------+-----------------+---------------------+--------------------+--------------------+-----------------+-----------------+-----------------------+--------------------+------------------+--------------------+---------------------------+--------------------+----------------+---------------+---------------+--------------------+-----------------+-----------------+--------------------+--------------------+--------------------+-----------------+\n",
            "|    Time|Day_of_week|Age_band_of_driver|Sex_of_driver| Educational_level|Vehicle_driver_relation|Driving_experience|     Type_of_vehicle|Owner_of_vehicle|Service_year_of_vehicle|Defect_of_vehicle|Area_accident_occured|    Lanes_or_Medians|     Road_allignment|Types_of_Junction|Road_surface_type|Road_surface_conditions|    Light_conditions|Weather_conditions|   Type_of_collision|Number_of_vehicles_involved|Number_of_casualties|Vehicle_movement| Casualty_class|Sex_of_casualty|Age_band_of_casualty|Casualty_severity|Work_of_casuality|Fitness_of_casuality| Pedestrian_movement|   Cause_of_accident|Accident_severity|\n",
            "+--------+-----------+------------------+-------------+------------------+-----------------------+------------------+--------------------+----------------+-----------------------+-----------------+---------------------+--------------------+--------------------+-----------------+-----------------+-----------------------+--------------------+------------------+--------------------+---------------------------+--------------------+----------------+---------------+---------------+--------------------+-----------------+-----------------+--------------------+--------------------+--------------------+-----------------+\n",
            "|17:02:00|     Monday|             18-30|         Male| Above high school|               Employee|             1-2yr|          Automobile|           Owner|             Above 10yr|        No defect|    Residential areas|                null|Tangent road with...|      No junction|    Asphalt roads|                    Dry|            Daylight|            Normal|Collision with ro...|                          2|                   2|  Going straight|             na|             na|                  na|               na|             null|                null|    Not a Pedestrian|     Moving Backward|    Slight Injury|\n",
            "|17:02:00|     Monday|             31-50|         Male|Junior high school|               Employee|        Above 10yr| Public (> 45 seats)|           Owner|                5-10yrs|        No defect|         Office areas|   Undivided Two way|Tangent road with...|      No junction|    Asphalt roads|                    Dry|            Daylight|            Normal|Vehicle with vehi...|                          2|                   2|  Going straight|             na|             na|                  na|               na|             null|                null|    Not a Pedestrian|          Overtaking|    Slight Injury|\n",
            "|17:02:00|     Monday|             18-30|         Male|Junior high school|               Employee|             1-2yr|     Lorry (41?100Q)|           Owner|                   null|        No defect|   Recreational areas|               other|                null|      No junction|    Asphalt roads|                    Dry|            Daylight|            Normal|Collision with ro...|                          2|                   2|  Going straight|Driver or rider|           Male|               31-50|                3|           Driver|                null|    Not a Pedestrian|Changing lane to ...|   Serious Injury|\n",
            "| 1:06:00|     Sunday|             18-30|         Male|Junior high school|               Employee|            5-10yr| Public (> 45 seats)|    Governmental|                   null|        No defect|         Office areas|               other|Tangent road with...|          Y Shape|      Earth roads|                    Dry|Darkness - lights...|            Normal|Vehicle with vehi...|                          2|                   2|  Going straight|     Pedestrian|         Female|               18-30|                3|           Driver|              Normal|    Not a Pedestrian|Changing lane to ...|    Slight Injury|\n",
            "| 1:06:00|     Sunday|             18-30|         Male|Junior high school|               Employee|             2-5yr|                null|           Owner|                5-10yrs|        No defect|     Industrial areas|               other|Tangent road with...|          Y Shape|    Asphalt roads|                    Dry|Darkness - lights...|            Normal|Vehicle with vehi...|                          2|                   2|  Going straight|             na|             na|                  na|               na|             null|                null|    Not a Pedestrian|          Overtaking|    Slight Injury|\n",
            "|14:15:00|     Friday|             31-50|         Male|              null|                Unknown|              null|                null|            null|                   null|             null|                 null|                null|                null|          Y Shape|             null|                    Dry|            Daylight|            Normal|Vehicle with vehi...|                          1|                   1|          U-Turn|Driver or rider|           Male|               31-50|                3|           Driver|              Normal|    Not a Pedestrian|         Overloading|    Slight Injury|\n",
            "|17:30:00|  Wednesday|             18-30|         Male|Junior high school|               Employee|             2-5yr|          Automobile|           Owner|                   null|        No defect|    Residential areas|   Undivided Two way|Tangent road with...|         Crossing|             null|                    Dry|            Daylight|            Normal|Vehicle with vehi...|                          1|                   1| Moving Backward|Driver or rider|         Female|               18-30|                3|           Driver|              Normal|    Not a Pedestrian|               Other|    Slight Injury|\n",
            "|17:20:00|     Friday|             18-30|         Male|Junior high school|               Employee|             2-5yr|          Automobile|    Governmental|             Above 10yr|        No defect|    Residential areas|               other|Tangent road with...|          Y Shape|    Asphalt roads|                    Dry|            Daylight|            Normal|Vehicle with vehi...|                          2|                   1|          U-Turn|             na|             na|                  na|               na|             null|              Normal|    Not a Pedestrian|No priority to ve...|    Slight Injury|\n",
            "|17:20:00|     Friday|             18-30|         Male|Junior high school|               Employee|        Above 10yr|     Lorry (41?100Q)|           Owner|                  1-2yr|        No defect|     Industrial areas|               other|Tangent road with...|          Y Shape|      Earth roads|                    Dry|            Daylight|            Normal|Collision with ro...|                          2|                   1|  Going straight|     Pedestrian|           Male|            Under 18|                3|           Driver|              Normal|Crossing from dri...|Changing lane to ...|    Slight Injury|\n",
            "|17:20:00|     Friday|             18-30|         Male|Junior high school|               Employee|             1-2yr|          Automobile|           Owner|                 2-5yrs|        No defect|    Residential areas|   Undivided Two way|Tangent road with...|          Y Shape|    Asphalt roads|                    Dry|            Daylight|            Normal|Collision with ro...|                          2|                   1|          U-Turn|      Passenger|           Male|               18-30|                3|           Driver|              Normal|    Not a Pedestrian|     Moving Backward|   Serious Injury|\n",
            "|14:40:00|   Saturday|             18-30|         Male| Above high school|                  Owner|             1-2yr|Public (13?45 seats)|           Owner|                Unknown|        No defect|    Residential areas|               other|Tangent road with...|      No junction|    Asphalt roads|                    Dry|            Daylight|            Normal|Collision with an...|                          2|                   1|        Turnover|             na|             na|                  na|               na|             null|              Normal|    Not a Pedestrian|Changing lane to ...|   Serious Injury|\n",
            "|14:40:00|   Saturday|             31-50|         Male| Above high school|               Employee|        No Licence|          Automobile|           Owner|                   null|        No defect|         Office areas|   Undivided Two way|Tangent road with...|      No junction|      Earth roads|                    Dry|            Daylight|            Normal|Collision with an...|                          2|                   1|  Going straight|Driver or rider|           Male|               18-30|                3|           Driver|              Normal|    Not a Pedestrian|No priority to pe...|   Serious Injury|\n",
            "|17:45:00|   Thursday|             18-30|         Male|Junior high school|               Employee|             1-2yr| Public (> 45 seats)|           Owner|                 2-5yrs|        No defect|         Office areas|Double carriagewa...|         Escarpments|      No junction|    Asphalt roads|                    Dry|            Daylight|            Normal|Collision with an...|                          2|                   2|  Going straight|             na|             na|                  na|               na|           Driver|              Normal|    Not a Pedestrian|       No distancing|    Slight Injury|\n",
            "|17:45:00|   Thursday|             31-50|         Male|Junior high school|               Employee|            5-10yr|     Lorry (41?100Q)|           Owner|             Above 10yr|        No defect|         Office areas|               other|Tangent road with...|      No junction|    Asphalt roads|                    Dry|            Daylight|            Normal|Collision with an...|                          2|                   2|   Waiting to go|             na|             na|                  na|               na|            Other|              Normal|    Not a Pedestrian|No priority to ve...|    Slight Injury|\n",
            "|17:45:00|   Thursday|             31-50|         Male|Junior high school|               Employee|        Above 10yr|          Automobile|           Owner|                  1-2yr|        No defect|         Office areas|   Undivided Two way|         Escarpments|      No junction|    Asphalt roads|                    Dry|            Daylight|            Normal|Collision with an...|                          2|                   2|  Going straight|Driver or rider|         Female|               18-30|                3|           Driver|              Normal|    Not a Pedestrian|       No distancing|   Serious Injury|\n",
            "|22:45:00|     Monday|             18-30|       Female|Junior high school|               Employee|        Above 10yr|      Lorry (11?40Q)|           Owner|                   null|        No defect|         Office areas|             One way|Tangent road with...|          Y Shape|    Asphalt roads|            Wet or damp|Darkness - lights...|           Raining|Collision with an...|                          2|                   3|  Going straight|             na|             na|                  na|               na|             null|                null|    Not a Pedestrian|       No distancing|   Serious Injury|\n",
            "|22:45:00|     Monday|             18-30|         Male|Junior high school|                  Owner|            5-10yr|Public (13?45 seats)|           Owner|                   null|        No defect|         Office areas|   Undivided Two way|Tangent road with...|          Y Shape|    Asphalt roads|            Wet or damp|Darkness - lights...|           Raining|Collision with an...|                          2|                   3|  Going straight|             na|             na|                  na|               na|           Driver|              Normal|    Not a Pedestrian|     Moving Backward|    Slight Injury|\n",
            "|22:45:00|     Monday|             18-30|         Male| Elementary school|               Employee|             2-5yr|Public (13?45 seats)|           Owner|                   null|        No defect|         Office areas|               other|Tangent road with...|          Y Shape|    Asphalt roads|            Wet or damp|Darkness - lights...|           Raining|Collision with an...|                          2|                   3|  Going straight|             na|             na|                  na|               na|           Driver|              Normal|    Not a Pedestrian|Changing lane to ...|   Serious Injury|\n",
            "|22:45:00|     Monday|             18-30|         Male|Junior high school|               Employee|             2-5yr|                null|           Owner|             Above 10yr|        No defect|    Residential areas|               other|Tangent road with...|          Y Shape|    Asphalt roads|            Wet or damp|Darkness - lights...|           Raining|Collision with an...|                          2|                   3| Moving Backward|             na|             na|                  na|               na|       Unemployed|              Normal|    Not a Pedestrian|No priority to pe...|    Slight Injury|\n",
            "| 8:20:00|    Tuesday|             18-30|         Male|Junior high school|               Employee|         Below 1yr|          Long lorry|           Owner|                5-10yrs|        No defect|    Residential areas|             One way|Tangent road with...|          Y Shape|    Asphalt roads|                    Dry|            Daylight|            Normal|Collision with an...|                          2|                   1|  Going straight|Driver or rider|           Male|            Under 18|                3|           Driver|              Normal|    Not a Pedestrian|     Moving Backward|   Serious Injury|\n",
            "+--------+-----------+------------------+-------------+------------------+-----------------------+------------------+--------------------+----------------+-----------------------+-----------------+---------------------+--------------------+--------------------+-----------------+-----------------+-----------------------+--------------------+------------------+--------------------+---------------------------+--------------------+----------------+---------------+---------------+--------------------+-----------------+-----------------+--------------------+--------------------+--------------------+-----------------+\n",
            "only showing top 20 rows\n",
            "\n"
          ]
        }
      ]
    },
    {
      "cell_type": "code",
      "source": [
        "# converting the features to its original datatype\n",
        "df = df.withColumn(\"Time\", df[\"Time\"].cast(\"timestamp\"))\n",
        "df = df.withColumn(\"Casualty_severity\", df[\"Casualty_severity\"].cast(\"integer\"))"
      ],
      "metadata": {
        "id": "38COvdvzLd3R"
      },
      "execution_count": 4,
      "outputs": []
    },
    {
      "cell_type": "code",
      "source": [
        "df.show()"
      ],
      "metadata": {
        "colab": {
          "base_uri": "https://localhost:8080/"
        },
        "id": "xlTkaJSkLqKH",
        "outputId": "1506d11e-84be-4ed4-a01c-0aec941ae283"
      },
      "execution_count": 5,
      "outputs": [
        {
          "output_type": "stream",
          "name": "stdout",
          "text": [
            "+-------------------+-----------+------------------+-------------+------------------+-----------------------+------------------+--------------------+----------------+-----------------------+-----------------+---------------------+--------------------+--------------------+-----------------+-----------------+-----------------------+--------------------+------------------+--------------------+---------------------------+--------------------+----------------+---------------+---------------+--------------------+-----------------+-----------------+--------------------+--------------------+--------------------+-----------------+\n",
            "|               Time|Day_of_week|Age_band_of_driver|Sex_of_driver| Educational_level|Vehicle_driver_relation|Driving_experience|     Type_of_vehicle|Owner_of_vehicle|Service_year_of_vehicle|Defect_of_vehicle|Area_accident_occured|    Lanes_or_Medians|     Road_allignment|Types_of_Junction|Road_surface_type|Road_surface_conditions|    Light_conditions|Weather_conditions|   Type_of_collision|Number_of_vehicles_involved|Number_of_casualties|Vehicle_movement| Casualty_class|Sex_of_casualty|Age_band_of_casualty|Casualty_severity|Work_of_casuality|Fitness_of_casuality| Pedestrian_movement|   Cause_of_accident|Accident_severity|\n",
            "+-------------------+-----------+------------------+-------------+------------------+-----------------------+------------------+--------------------+----------------+-----------------------+-----------------+---------------------+--------------------+--------------------+-----------------+-----------------+-----------------------+--------------------+------------------+--------------------+---------------------------+--------------------+----------------+---------------+---------------+--------------------+-----------------+-----------------+--------------------+--------------------+--------------------+-----------------+\n",
            "|2024-07-28 17:02:00|     Monday|             18-30|         Male| Above high school|               Employee|             1-2yr|          Automobile|           Owner|             Above 10yr|        No defect|    Residential areas|                null|Tangent road with...|      No junction|    Asphalt roads|                    Dry|            Daylight|            Normal|Collision with ro...|                          2|                   2|  Going straight|             na|             na|                  na|             null|             null|                null|    Not a Pedestrian|     Moving Backward|    Slight Injury|\n",
            "|2024-07-28 17:02:00|     Monday|             31-50|         Male|Junior high school|               Employee|        Above 10yr| Public (> 45 seats)|           Owner|                5-10yrs|        No defect|         Office areas|   Undivided Two way|Tangent road with...|      No junction|    Asphalt roads|                    Dry|            Daylight|            Normal|Vehicle with vehi...|                          2|                   2|  Going straight|             na|             na|                  na|             null|             null|                null|    Not a Pedestrian|          Overtaking|    Slight Injury|\n",
            "|2024-07-28 17:02:00|     Monday|             18-30|         Male|Junior high school|               Employee|             1-2yr|     Lorry (41?100Q)|           Owner|                   null|        No defect|   Recreational areas|               other|                null|      No junction|    Asphalt roads|                    Dry|            Daylight|            Normal|Collision with ro...|                          2|                   2|  Going straight|Driver or rider|           Male|               31-50|                3|           Driver|                null|    Not a Pedestrian|Changing lane to ...|   Serious Injury|\n",
            "|2024-07-28 01:06:00|     Sunday|             18-30|         Male|Junior high school|               Employee|            5-10yr| Public (> 45 seats)|    Governmental|                   null|        No defect|         Office areas|               other|Tangent road with...|          Y Shape|      Earth roads|                    Dry|Darkness - lights...|            Normal|Vehicle with vehi...|                          2|                   2|  Going straight|     Pedestrian|         Female|               18-30|                3|           Driver|              Normal|    Not a Pedestrian|Changing lane to ...|    Slight Injury|\n",
            "|2024-07-28 01:06:00|     Sunday|             18-30|         Male|Junior high school|               Employee|             2-5yr|                null|           Owner|                5-10yrs|        No defect|     Industrial areas|               other|Tangent road with...|          Y Shape|    Asphalt roads|                    Dry|Darkness - lights...|            Normal|Vehicle with vehi...|                          2|                   2|  Going straight|             na|             na|                  na|             null|             null|                null|    Not a Pedestrian|          Overtaking|    Slight Injury|\n",
            "|2024-07-28 14:15:00|     Friday|             31-50|         Male|              null|                Unknown|              null|                null|            null|                   null|             null|                 null|                null|                null|          Y Shape|             null|                    Dry|            Daylight|            Normal|Vehicle with vehi...|                          1|                   1|          U-Turn|Driver or rider|           Male|               31-50|                3|           Driver|              Normal|    Not a Pedestrian|         Overloading|    Slight Injury|\n",
            "|2024-07-28 17:30:00|  Wednesday|             18-30|         Male|Junior high school|               Employee|             2-5yr|          Automobile|           Owner|                   null|        No defect|    Residential areas|   Undivided Two way|Tangent road with...|         Crossing|             null|                    Dry|            Daylight|            Normal|Vehicle with vehi...|                          1|                   1| Moving Backward|Driver or rider|         Female|               18-30|                3|           Driver|              Normal|    Not a Pedestrian|               Other|    Slight Injury|\n",
            "|2024-07-28 17:20:00|     Friday|             18-30|         Male|Junior high school|               Employee|             2-5yr|          Automobile|    Governmental|             Above 10yr|        No defect|    Residential areas|               other|Tangent road with...|          Y Shape|    Asphalt roads|                    Dry|            Daylight|            Normal|Vehicle with vehi...|                          2|                   1|          U-Turn|             na|             na|                  na|             null|             null|              Normal|    Not a Pedestrian|No priority to ve...|    Slight Injury|\n",
            "|2024-07-28 17:20:00|     Friday|             18-30|         Male|Junior high school|               Employee|        Above 10yr|     Lorry (41?100Q)|           Owner|                  1-2yr|        No defect|     Industrial areas|               other|Tangent road with...|          Y Shape|      Earth roads|                    Dry|            Daylight|            Normal|Collision with ro...|                          2|                   1|  Going straight|     Pedestrian|           Male|            Under 18|                3|           Driver|              Normal|Crossing from dri...|Changing lane to ...|    Slight Injury|\n",
            "|2024-07-28 17:20:00|     Friday|             18-30|         Male|Junior high school|               Employee|             1-2yr|          Automobile|           Owner|                 2-5yrs|        No defect|    Residential areas|   Undivided Two way|Tangent road with...|          Y Shape|    Asphalt roads|                    Dry|            Daylight|            Normal|Collision with ro...|                          2|                   1|          U-Turn|      Passenger|           Male|               18-30|                3|           Driver|              Normal|    Not a Pedestrian|     Moving Backward|   Serious Injury|\n",
            "|2024-07-28 14:40:00|   Saturday|             18-30|         Male| Above high school|                  Owner|             1-2yr|Public (13?45 seats)|           Owner|                Unknown|        No defect|    Residential areas|               other|Tangent road with...|      No junction|    Asphalt roads|                    Dry|            Daylight|            Normal|Collision with an...|                          2|                   1|        Turnover|             na|             na|                  na|             null|             null|              Normal|    Not a Pedestrian|Changing lane to ...|   Serious Injury|\n",
            "|2024-07-28 14:40:00|   Saturday|             31-50|         Male| Above high school|               Employee|        No Licence|          Automobile|           Owner|                   null|        No defect|         Office areas|   Undivided Two way|Tangent road with...|      No junction|      Earth roads|                    Dry|            Daylight|            Normal|Collision with an...|                          2|                   1|  Going straight|Driver or rider|           Male|               18-30|                3|           Driver|              Normal|    Not a Pedestrian|No priority to pe...|   Serious Injury|\n",
            "|2024-07-28 17:45:00|   Thursday|             18-30|         Male|Junior high school|               Employee|             1-2yr| Public (> 45 seats)|           Owner|                 2-5yrs|        No defect|         Office areas|Double carriagewa...|         Escarpments|      No junction|    Asphalt roads|                    Dry|            Daylight|            Normal|Collision with an...|                          2|                   2|  Going straight|             na|             na|                  na|             null|           Driver|              Normal|    Not a Pedestrian|       No distancing|    Slight Injury|\n",
            "|2024-07-28 17:45:00|   Thursday|             31-50|         Male|Junior high school|               Employee|            5-10yr|     Lorry (41?100Q)|           Owner|             Above 10yr|        No defect|         Office areas|               other|Tangent road with...|      No junction|    Asphalt roads|                    Dry|            Daylight|            Normal|Collision with an...|                          2|                   2|   Waiting to go|             na|             na|                  na|             null|            Other|              Normal|    Not a Pedestrian|No priority to ve...|    Slight Injury|\n",
            "|2024-07-28 17:45:00|   Thursday|             31-50|         Male|Junior high school|               Employee|        Above 10yr|          Automobile|           Owner|                  1-2yr|        No defect|         Office areas|   Undivided Two way|         Escarpments|      No junction|    Asphalt roads|                    Dry|            Daylight|            Normal|Collision with an...|                          2|                   2|  Going straight|Driver or rider|         Female|               18-30|                3|           Driver|              Normal|    Not a Pedestrian|       No distancing|   Serious Injury|\n",
            "|2024-07-28 22:45:00|     Monday|             18-30|       Female|Junior high school|               Employee|        Above 10yr|      Lorry (11?40Q)|           Owner|                   null|        No defect|         Office areas|             One way|Tangent road with...|          Y Shape|    Asphalt roads|            Wet or damp|Darkness - lights...|           Raining|Collision with an...|                          2|                   3|  Going straight|             na|             na|                  na|             null|             null|                null|    Not a Pedestrian|       No distancing|   Serious Injury|\n",
            "|2024-07-28 22:45:00|     Monday|             18-30|         Male|Junior high school|                  Owner|            5-10yr|Public (13?45 seats)|           Owner|                   null|        No defect|         Office areas|   Undivided Two way|Tangent road with...|          Y Shape|    Asphalt roads|            Wet or damp|Darkness - lights...|           Raining|Collision with an...|                          2|                   3|  Going straight|             na|             na|                  na|             null|           Driver|              Normal|    Not a Pedestrian|     Moving Backward|    Slight Injury|\n",
            "|2024-07-28 22:45:00|     Monday|             18-30|         Male| Elementary school|               Employee|             2-5yr|Public (13?45 seats)|           Owner|                   null|        No defect|         Office areas|               other|Tangent road with...|          Y Shape|    Asphalt roads|            Wet or damp|Darkness - lights...|           Raining|Collision with an...|                          2|                   3|  Going straight|             na|             na|                  na|             null|           Driver|              Normal|    Not a Pedestrian|Changing lane to ...|   Serious Injury|\n",
            "|2024-07-28 22:45:00|     Monday|             18-30|         Male|Junior high school|               Employee|             2-5yr|                null|           Owner|             Above 10yr|        No defect|    Residential areas|               other|Tangent road with...|          Y Shape|    Asphalt roads|            Wet or damp|Darkness - lights...|           Raining|Collision with an...|                          2|                   3| Moving Backward|             na|             na|                  na|             null|       Unemployed|              Normal|    Not a Pedestrian|No priority to pe...|    Slight Injury|\n",
            "|2024-07-28 08:20:00|    Tuesday|             18-30|         Male|Junior high school|               Employee|         Below 1yr|          Long lorry|           Owner|                5-10yrs|        No defect|    Residential areas|             One way|Tangent road with...|          Y Shape|    Asphalt roads|                    Dry|            Daylight|            Normal|Collision with an...|                          2|                   1|  Going straight|Driver or rider|           Male|            Under 18|                3|           Driver|              Normal|    Not a Pedestrian|     Moving Backward|   Serious Injury|\n",
            "+-------------------+-----------+------------------+-------------+------------------+-----------------------+------------------+--------------------+----------------+-----------------------+-----------------+---------------------+--------------------+--------------------+-----------------+-----------------+-----------------------+--------------------+------------------+--------------------+---------------------------+--------------------+----------------+---------------+---------------+--------------------+-----------------+-----------------+--------------------+--------------------+--------------------+-----------------+\n",
            "only showing top 20 rows\n",
            "\n"
          ]
        }
      ]
    },
    {
      "cell_type": "code",
      "source": [
        "df.printSchema()"
      ],
      "metadata": {
        "colab": {
          "base_uri": "https://localhost:8080/"
        },
        "id": "q6X-AN7XLro6",
        "outputId": "8cefe9e4-3465-4c13-9a5c-fab58381cac0"
      },
      "execution_count": 6,
      "outputs": [
        {
          "output_type": "stream",
          "name": "stdout",
          "text": [
            "root\n",
            " |-- Time: timestamp (nullable = true)\n",
            " |-- Day_of_week: string (nullable = true)\n",
            " |-- Age_band_of_driver: string (nullable = true)\n",
            " |-- Sex_of_driver: string (nullable = true)\n",
            " |-- Educational_level: string (nullable = true)\n",
            " |-- Vehicle_driver_relation: string (nullable = true)\n",
            " |-- Driving_experience: string (nullable = true)\n",
            " |-- Type_of_vehicle: string (nullable = true)\n",
            " |-- Owner_of_vehicle: string (nullable = true)\n",
            " |-- Service_year_of_vehicle: string (nullable = true)\n",
            " |-- Defect_of_vehicle: string (nullable = true)\n",
            " |-- Area_accident_occured: string (nullable = true)\n",
            " |-- Lanes_or_Medians: string (nullable = true)\n",
            " |-- Road_allignment: string (nullable = true)\n",
            " |-- Types_of_Junction: string (nullable = true)\n",
            " |-- Road_surface_type: string (nullable = true)\n",
            " |-- Road_surface_conditions: string (nullable = true)\n",
            " |-- Light_conditions: string (nullable = true)\n",
            " |-- Weather_conditions: string (nullable = true)\n",
            " |-- Type_of_collision: string (nullable = true)\n",
            " |-- Number_of_vehicles_involved: integer (nullable = true)\n",
            " |-- Number_of_casualties: integer (nullable = true)\n",
            " |-- Vehicle_movement: string (nullable = true)\n",
            " |-- Casualty_class: string (nullable = true)\n",
            " |-- Sex_of_casualty: string (nullable = true)\n",
            " |-- Age_band_of_casualty: string (nullable = true)\n",
            " |-- Casualty_severity: integer (nullable = true)\n",
            " |-- Work_of_casuality: string (nullable = true)\n",
            " |-- Fitness_of_casuality: string (nullable = true)\n",
            " |-- Pedestrian_movement: string (nullable = true)\n",
            " |-- Cause_of_accident: string (nullable = true)\n",
            " |-- Accident_severity: string (nullable = true)\n",
            "\n"
          ]
        }
      ]
    },
    {
      "cell_type": "code",
      "source": [
        "# checking number of rows and columns\n",
        "rows=df.count()\n",
        "columns=len(df.columns)\n",
        "\n",
        "print('Number of Rows',rows)\n",
        "print('Number of Columns',columns)"
      ],
      "metadata": {
        "colab": {
          "base_uri": "https://localhost:8080/"
        },
        "id": "VJ7eo3e-L4wg",
        "outputId": "05675373-30f2-43ea-fe19-c50066871761"
      },
      "execution_count": 7,
      "outputs": [
        {
          "output_type": "stream",
          "name": "stdout",
          "text": [
            "Number of Rows 12316\n",
            "Number of Columns 32\n"
          ]
        }
      ]
    },
    {
      "cell_type": "code",
      "source": [
        "#drop unwanted columns\n",
        "#drop unwanted columns\n",
        "df=df.drop(*['Time','Vehicle_driver_relation', 'Work_of_casuality', 'Fitness_of_casuality','Sex_of_driver',\n",
        "            'Educational_level','Owner_of_vehicle', 'Sex_of_casualty','Age_band_of_driver','Age_band_of_casualty'])"
      ],
      "metadata": {
        "id": "Mb4ialAML5PC"
      },
      "execution_count": 16,
      "outputs": []
    },
    {
      "cell_type": "code",
      "source": [
        "df.columns"
      ],
      "metadata": {
        "colab": {
          "base_uri": "https://localhost:8080/"
        },
        "id": "neKfoByBNV1l",
        "outputId": "80232dfc-7543-433d-ec41-11f3f448e6f4"
      },
      "execution_count": 17,
      "outputs": [
        {
          "output_type": "execute_result",
          "data": {
            "text/plain": [
              "['Day_of_week',\n",
              " 'Driving_experience',\n",
              " 'Type_of_vehicle',\n",
              " 'Service_year_of_vehicle',\n",
              " 'Defect_of_vehicle',\n",
              " 'Area_accident_occured',\n",
              " 'Lanes_or_Medians',\n",
              " 'Road_allignment',\n",
              " 'Types_of_Junction',\n",
              " 'Road_surface_type',\n",
              " 'Road_surface_conditions',\n",
              " 'Light_conditions',\n",
              " 'Weather_conditions',\n",
              " 'Type_of_collision',\n",
              " 'Number_of_vehicles_involved',\n",
              " 'Number_of_casualties',\n",
              " 'Vehicle_movement',\n",
              " 'Casualty_class',\n",
              " 'Casualty_severity',\n",
              " 'Pedestrian_movement',\n",
              " 'Cause_of_accident',\n",
              " 'Accident_severity']"
            ]
          },
          "metadata": {},
          "execution_count": 17
        }
      ]
    },
    {
      "cell_type": "code",
      "source": [
        "# checking duplicates\n",
        "duplicate_records = df.groupBy(df.columns).agg(count(\"*\").alias(\"count\")).filter(col(\"count\") > 1)\n",
        "duplicate_records.show()"
      ],
      "metadata": {
        "colab": {
          "base_uri": "https://localhost:8080/"
        },
        "id": "-aeN7ikJNWqD",
        "outputId": "afab7572-d0ac-4523-a144-423603d1e620"
      },
      "execution_count": 18,
      "outputs": [
        {
          "output_type": "stream",
          "name": "stdout",
          "text": [
            "+-----------+------------------+---------------+-----------------------+-----------------+---------------------+----------------+---------------+-----------------+-----------------+-----------------------+----------------+------------------+-----------------+---------------------------+--------------------+----------------+--------------+-----------------+-------------------+-----------------+-----------------+-----+\n",
            "|Day_of_week|Driving_experience|Type_of_vehicle|Service_year_of_vehicle|Defect_of_vehicle|Area_accident_occured|Lanes_or_Medians|Road_allignment|Types_of_Junction|Road_surface_type|Road_surface_conditions|Light_conditions|Weather_conditions|Type_of_collision|Number_of_vehicles_involved|Number_of_casualties|Vehicle_movement|Casualty_class|Casualty_severity|Pedestrian_movement|Cause_of_accident|Accident_severity|count|\n",
            "+-----------+------------------+---------------+-----------------------+-----------------+---------------------+----------------+---------------+-----------------+-----------------+-----------------------+----------------+------------------+-----------------+---------------------------+--------------------+----------------+--------------+-----------------+-------------------+-----------------+-----------------+-----+\n",
            "+-----------+------------------+---------------+-----------------------+-----------------+---------------------+----------------+---------------+-----------------+-----------------+-----------------------+----------------+------------------+-----------------+---------------------------+--------------------+----------------+--------------+-----------------+-------------------+-----------------+-----------------+-----+\n",
            "\n"
          ]
        }
      ]
    },
    {
      "cell_type": "code",
      "source": [
        "# Define numerical columns\n",
        "numerical_cols = [\"Number_of_vehicles_involved\", \"Number_of_casualties\",\"Casualty_severity\"]\n",
        "# Replace 'unknown' and null values in numerical columns with the mean value\n",
        "for col_name in numerical_cols:\n",
        "    # Calculate the mean value\n",
        "    mean_value = df.select(mean(col(col_name))).collect()[0][0]\n",
        "    # Replace 'unknown' and null values with the mean value\n",
        "    df = df.withColumn(col_name, when((col(col_name) == 'unknown') | col(col_name).isNull(), mean_value).otherwise(col(col_name)))"
      ],
      "metadata": {
        "id": "zifio4A6NZSq"
      },
      "execution_count": 19,
      "outputs": []
    },
    {
      "cell_type": "code",
      "source": [
        "# Define categorical columns\n",
        "categorical_cols = ['Day_of_week','Driving_experience','Type_of_vehicle','Service_year_of_vehicle',\n",
        "                    'Defect_of_vehicle','Area_accident_occured','Lanes_or_Medians','Road_allignment',\n",
        "                    'Types_of_Junction','Road_surface_type','Road_surface_conditions','Light_conditions',\n",
        "                    'Weather_conditions','Type_of_collision','Vehicle_movement','Casualty_class','Pedestrian_movement',\n",
        "                    'Cause_of_accident']\n",
        "\n",
        "# Replace 'unknown' and null values in categorical columns with the most frequent category\n",
        "for col_name in categorical_cols:\n",
        "    # Calculate the most frequent category\n",
        "    mode_value = df.groupBy(col_name).count().orderBy('count', ascending=False).first()[0]\n",
        "    # Replace 'unknown' and null values with the most frequent category\n",
        "    df = df.withColumn(col_name, when((col(col_name) == 'unknown') | col(col_name).isNull(), mode_value).otherwise(col(col_name)))\n",
        "\n",
        "df.show()"
      ],
      "metadata": {
        "colab": {
          "base_uri": "https://localhost:8080/"
        },
        "id": "O-6m2qdqNhy8",
        "outputId": "8f2685a2-7d4e-46d8-cae3-397e6ac6c4f9"
      },
      "execution_count": 20,
      "outputs": [
        {
          "output_type": "stream",
          "name": "stdout",
          "text": [
            "+-----------+------------------+--------------------+-----------------------+-----------------+---------------------+--------------------+--------------------+-----------------+-----------------+-----------------------+--------------------+------------------+--------------------+---------------------------+--------------------+----------------+---------------+------------------+--------------------+--------------------+-----------------+\n",
            "|Day_of_week|Driving_experience|     Type_of_vehicle|Service_year_of_vehicle|Defect_of_vehicle|Area_accident_occured|    Lanes_or_Medians|     Road_allignment|Types_of_Junction|Road_surface_type|Road_surface_conditions|    Light_conditions|Weather_conditions|   Type_of_collision|Number_of_vehicles_involved|Number_of_casualties|Vehicle_movement| Casualty_class| Casualty_severity| Pedestrian_movement|   Cause_of_accident|Accident_severity|\n",
            "+-----------+------------------+--------------------+-----------------------+-----------------+---------------------+--------------------+--------------------+-----------------+-----------------+-----------------------+--------------------+------------------+--------------------+---------------------------+--------------------+----------------+---------------+------------------+--------------------+--------------------+-----------------+\n",
            "|     Monday|             1-2yr|          Automobile|             Above 10yr|        No defect|    Residential areas|Two-way (divided ...|Tangent road with...|      No junction|    Asphalt roads|                    Dry|            Daylight|            Normal|Collision with ro...|                        2.0|                 2.0|  Going straight|             na|2.8954655150514417|    Not a Pedestrian|     Moving Backward|    Slight Injury|\n",
            "|     Monday|        Above 10yr| Public (> 45 seats)|                5-10yrs|        No defect|         Office areas|   Undivided Two way|Tangent road with...|      No junction|    Asphalt roads|                    Dry|            Daylight|            Normal|Vehicle with vehi...|                        2.0|                 2.0|  Going straight|             na|2.8954655150514417|    Not a Pedestrian|          Overtaking|    Slight Injury|\n",
            "|     Monday|             1-2yr|     Lorry (41?100Q)|                   null|        No defect|   Recreational areas|               other|Tangent road with...|      No junction|    Asphalt roads|                    Dry|            Daylight|            Normal|Collision with ro...|                        2.0|                 2.0|  Going straight|Driver or rider|               3.0|    Not a Pedestrian|Changing lane to ...|   Serious Injury|\n",
            "|     Sunday|            5-10yr| Public (> 45 seats)|                   null|        No defect|         Office areas|               other|Tangent road with...|          Y Shape|      Earth roads|                    Dry|Darkness - lights...|            Normal|Vehicle with vehi...|                        2.0|                 2.0|  Going straight|     Pedestrian|               3.0|    Not a Pedestrian|Changing lane to ...|    Slight Injury|\n",
            "|     Sunday|             2-5yr|          Automobile|                5-10yrs|        No defect|     Industrial areas|               other|Tangent road with...|          Y Shape|    Asphalt roads|                    Dry|Darkness - lights...|            Normal|Vehicle with vehi...|                        2.0|                 2.0|  Going straight|             na|2.8954655150514417|    Not a Pedestrian|          Overtaking|    Slight Injury|\n",
            "|     Friday|            5-10yr|          Automobile|                   null|        No defect|                Other|Two-way (divided ...|Tangent road with...|          Y Shape|    Asphalt roads|                    Dry|            Daylight|            Normal|Vehicle with vehi...|                        1.0|                 1.0|          U-Turn|Driver or rider|               3.0|    Not a Pedestrian|         Overloading|    Slight Injury|\n",
            "|  Wednesday|             2-5yr|          Automobile|                   null|        No defect|    Residential areas|   Undivided Two way|Tangent road with...|         Crossing|    Asphalt roads|                    Dry|            Daylight|            Normal|Vehicle with vehi...|                        1.0|                 1.0| Moving Backward|Driver or rider|               3.0|    Not a Pedestrian|               Other|    Slight Injury|\n",
            "|     Friday|             2-5yr|          Automobile|             Above 10yr|        No defect|    Residential areas|               other|Tangent road with...|          Y Shape|    Asphalt roads|                    Dry|            Daylight|            Normal|Vehicle with vehi...|                        2.0|                 1.0|          U-Turn|             na|2.8954655150514417|    Not a Pedestrian|No priority to ve...|    Slight Injury|\n",
            "|     Friday|        Above 10yr|     Lorry (41?100Q)|                  1-2yr|        No defect|     Industrial areas|               other|Tangent road with...|          Y Shape|      Earth roads|                    Dry|            Daylight|            Normal|Collision with ro...|                        2.0|                 1.0|  Going straight|     Pedestrian|               3.0|Crossing from dri...|Changing lane to ...|    Slight Injury|\n",
            "|     Friday|             1-2yr|          Automobile|                 2-5yrs|        No defect|    Residential areas|   Undivided Two way|Tangent road with...|          Y Shape|    Asphalt roads|                    Dry|            Daylight|            Normal|Collision with ro...|                        2.0|                 1.0|          U-Turn|      Passenger|               3.0|    Not a Pedestrian|     Moving Backward|   Serious Injury|\n",
            "|   Saturday|             1-2yr|Public (13?45 seats)|                Unknown|        No defect|    Residential areas|               other|Tangent road with...|      No junction|    Asphalt roads|                    Dry|            Daylight|            Normal|Collision with an...|                        2.0|                 1.0|        Turnover|             na|2.8954655150514417|    Not a Pedestrian|Changing lane to ...|   Serious Injury|\n",
            "|   Saturday|        No Licence|          Automobile|                   null|        No defect|         Office areas|   Undivided Two way|Tangent road with...|      No junction|      Earth roads|                    Dry|            Daylight|            Normal|Collision with an...|                        2.0|                 1.0|  Going straight|Driver or rider|               3.0|    Not a Pedestrian|No priority to pe...|   Serious Injury|\n",
            "|   Thursday|             1-2yr| Public (> 45 seats)|                 2-5yrs|        No defect|         Office areas|Double carriagewa...|         Escarpments|      No junction|    Asphalt roads|                    Dry|            Daylight|            Normal|Collision with an...|                        2.0|                 2.0|  Going straight|             na|2.8954655150514417|    Not a Pedestrian|       No distancing|    Slight Injury|\n",
            "|   Thursday|            5-10yr|     Lorry (41?100Q)|             Above 10yr|        No defect|         Office areas|               other|Tangent road with...|      No junction|    Asphalt roads|                    Dry|            Daylight|            Normal|Collision with an...|                        2.0|                 2.0|   Waiting to go|             na|2.8954655150514417|    Not a Pedestrian|No priority to ve...|    Slight Injury|\n",
            "|   Thursday|        Above 10yr|          Automobile|                  1-2yr|        No defect|         Office areas|   Undivided Two way|         Escarpments|      No junction|    Asphalt roads|                    Dry|            Daylight|            Normal|Collision with an...|                        2.0|                 2.0|  Going straight|Driver or rider|               3.0|    Not a Pedestrian|       No distancing|   Serious Injury|\n",
            "|     Monday|        Above 10yr|      Lorry (11?40Q)|                   null|        No defect|         Office areas|             One way|Tangent road with...|          Y Shape|    Asphalt roads|            Wet or damp|Darkness - lights...|           Raining|Collision with an...|                        2.0|                 3.0|  Going straight|             na|2.8954655150514417|    Not a Pedestrian|       No distancing|   Serious Injury|\n",
            "|     Monday|            5-10yr|Public (13?45 seats)|                   null|        No defect|         Office areas|   Undivided Two way|Tangent road with...|          Y Shape|    Asphalt roads|            Wet or damp|Darkness - lights...|           Raining|Collision with an...|                        2.0|                 3.0|  Going straight|             na|2.8954655150514417|    Not a Pedestrian|     Moving Backward|    Slight Injury|\n",
            "|     Monday|             2-5yr|Public (13?45 seats)|                   null|        No defect|         Office areas|               other|Tangent road with...|          Y Shape|    Asphalt roads|            Wet or damp|Darkness - lights...|           Raining|Collision with an...|                        2.0|                 3.0|  Going straight|             na|2.8954655150514417|    Not a Pedestrian|Changing lane to ...|   Serious Injury|\n",
            "|     Monday|             2-5yr|          Automobile|             Above 10yr|        No defect|    Residential areas|               other|Tangent road with...|          Y Shape|    Asphalt roads|            Wet or damp|Darkness - lights...|           Raining|Collision with an...|                        2.0|                 3.0| Moving Backward|             na|2.8954655150514417|    Not a Pedestrian|No priority to pe...|    Slight Injury|\n",
            "|    Tuesday|         Below 1yr|          Long lorry|                5-10yrs|        No defect|    Residential areas|             One way|Tangent road with...|          Y Shape|    Asphalt roads|                    Dry|            Daylight|            Normal|Collision with an...|                        2.0|                 1.0|  Going straight|Driver or rider|               3.0|    Not a Pedestrian|     Moving Backward|   Serious Injury|\n",
            "+-----------+------------------+--------------------+-----------------------+-----------------+---------------------+--------------------+--------------------+-----------------+-----------------+-----------------------+--------------------+------------------+--------------------+---------------------------+--------------------+----------------+---------------+------------------+--------------------+--------------------+-----------------+\n",
            "only showing top 20 rows\n",
            "\n"
          ]
        }
      ]
    },
    {
      "cell_type": "code",
      "source": [
        "# data preprocessing\n",
        "\n",
        "from pyspark.ml.feature import StringIndexer,OneHotEncoder\n",
        "\n",
        "\n",
        "categorical_cols=['Day_of_week','Driving_experience','Type_of_vehicle','Service_year_of_vehicle',\n",
        "                    'Defect_of_vehicle','Area_accident_occured','Lanes_or_Medians','Road_allignment',\n",
        "                    'Types_of_Junction','Road_surface_type','Road_surface_conditions','Light_conditions',\n",
        "                    'Weather_conditions','Type_of_collision','Vehicle_movement','Casualty_class','Pedestrian_movement',\n",
        "                    'Cause_of_accident']\n",
        "\n",
        "indexer=[StringIndexer(inputCol=col, outputCol=col + \"_indexed\", handleInvalid=\"skip\") for col in categorical_cols]\n",
        "\n",
        "encoder=[OneHotEncoder(inputCol=col + \"_indexed\", outputCol=col + \"_encoded\") for col in categorical_cols]\n",
        "\n",
        "# Indexer for the label column\n",
        "label_indexer = StringIndexer(inputCol=\"Accident_severity\", outputCol=\"label\")\n"
      ],
      "metadata": {
        "id": "6quhPiQLNxx9"
      },
      "execution_count": 24,
      "outputs": []
    },
    {
      "cell_type": "code",
      "source": [
        "from pyspark.ml import Pipeline\n",
        "\n",
        "pipeline=Pipeline(stages=indexer + encoder + [label_indexer])\n",
        "pipeline=pipeline.fit(df)\n",
        "\n",
        "df=pipeline.transform(df)"
      ],
      "metadata": {
        "id": "KkaUOFuoOtc4"
      },
      "execution_count": 25,
      "outputs": []
    },
    {
      "cell_type": "code",
      "source": [
        "# Assemble all feature columns into a feature vector\n",
        "assembler_input_cols = numerical_cols + [f\"{col}_encoded\" for col in categorical_cols]\n",
        "assembler = VectorAssembler(inputCols=assembler_input_cols, outputCol=\"features\")\n",
        "df = assembler.transform(df)"
      ],
      "metadata": {
        "id": "Tzx324wvPUSo"
      },
      "execution_count": 26,
      "outputs": []
    },
    {
      "cell_type": "code",
      "source": [
        "df.select('features','label').show()"
      ],
      "metadata": {
        "colab": {
          "base_uri": "https://localhost:8080/"
        },
        "id": "fagWYwVRQ9BR",
        "outputId": "060ff9e3-7c5a-48f4-f905-57e446f83768"
      },
      "execution_count": 32,
      "outputs": [
        {
          "output_type": "stream",
          "name": "stdout",
          "text": [
            "+--------------------+-----+\n",
            "|            features|label|\n",
            "+--------------------+-----+\n",
            "|(139,[0,1,2,7,12,...|  0.0|\n",
            "|(139,[0,1,2,7,11,...|  0.0|\n",
            "|(139,[0,1,2,10,14...|  0.0|\n",
            "|(139,[0,1,2,3,10,...|  0.0|\n",
            "|(139,[0,1,2,3,11,...|  0.0|\n",
            "|(139,[0,1,2,3,12,...|  1.0|\n",
            "|(139,[0,1,2,8,12,...|  1.0|\n",
            "|(139,[0,1,2,4,12,...|  0.0|\n",
            "|(139,[0,1,2,4,9,1...|  0.0|\n",
            "|(139,[0,1,2,4,11,...|  1.0|\n",
            "|(139,[0,1,2,7,10,...|  0.0|\n",
            "|(139,[0,1,2,6,13,...|  1.0|\n",
            "|(139,[0,1,2,4,10,...|  1.0|\n",
            "|(139,[0,1,2,5,10,...|  0.0|\n",
            "|(139,[0,1,2,5,9,1...|  0.0|\n",
            "|(139,[0,1,2,3,10,...|  0.0|\n",
            "|(139,[0,1,2,4,11,...|  0.0|\n",
            "|(139,[0,1,2,4,13,...|  0.0|\n",
            "|(139,[0,1,2,8,13,...|  0.0|\n",
            "|(139,[0,1,2,8,9,1...|  0.0|\n",
            "+--------------------+-----+\n",
            "only showing top 20 rows\n",
            "\n"
          ]
        }
      ]
    },
    {
      "cell_type": "code",
      "source": [
        "data=df.select('features','label')\n",
        "data.show()"
      ],
      "metadata": {
        "colab": {
          "base_uri": "https://localhost:8080/"
        },
        "id": "YybFcCmiRHVS",
        "outputId": "739bdf0c-ff2c-4a0f-bb1c-87d66e8753bb"
      },
      "execution_count": 33,
      "outputs": [
        {
          "output_type": "stream",
          "name": "stdout",
          "text": [
            "+--------------------+-----+\n",
            "|            features|label|\n",
            "+--------------------+-----+\n",
            "|(139,[0,1,2,7,12,...|  0.0|\n",
            "|(139,[0,1,2,7,11,...|  0.0|\n",
            "|(139,[0,1,2,10,14...|  0.0|\n",
            "|(139,[0,1,2,3,10,...|  0.0|\n",
            "|(139,[0,1,2,3,11,...|  0.0|\n",
            "|(139,[0,1,2,3,12,...|  1.0|\n",
            "|(139,[0,1,2,8,12,...|  1.0|\n",
            "|(139,[0,1,2,4,12,...|  0.0|\n",
            "|(139,[0,1,2,4,9,1...|  0.0|\n",
            "|(139,[0,1,2,4,11,...|  1.0|\n",
            "|(139,[0,1,2,7,10,...|  0.0|\n",
            "|(139,[0,1,2,6,13,...|  1.0|\n",
            "|(139,[0,1,2,4,10,...|  1.0|\n",
            "|(139,[0,1,2,5,10,...|  0.0|\n",
            "|(139,[0,1,2,5,9,1...|  0.0|\n",
            "|(139,[0,1,2,3,10,...|  0.0|\n",
            "|(139,[0,1,2,4,11,...|  0.0|\n",
            "|(139,[0,1,2,4,13,...|  0.0|\n",
            "|(139,[0,1,2,8,13,...|  0.0|\n",
            "|(139,[0,1,2,8,9,1...|  0.0|\n",
            "+--------------------+-----+\n",
            "only showing top 20 rows\n",
            "\n"
          ]
        }
      ]
    },
    {
      "cell_type": "code",
      "source": [
        "# Train-test split\n",
        "train_df, test_df = data.randomSplit([0.8, 0.2], seed=42)"
      ],
      "metadata": {
        "id": "jnX8Y4xiPeRJ"
      },
      "execution_count": 34,
      "outputs": []
    },
    {
      "cell_type": "code",
      "source": [
        "from pyspark.ml.classification import LogisticRegression, DecisionTreeClassifier, RandomForestClassifier, NaiveBayes\n",
        "from pyspark.ml.evaluation import MulticlassClassificationEvaluator\n",
        "\n",
        "lr = LogisticRegression(labelCol=\"label\", featuresCol=\"features\")\n",
        "model_lr=lr.fit(train_df)\n",
        "# Make predictions on the test data\n",
        "predictions_lr = model_lr.transform(test_df)\n",
        "\n",
        "dt = DecisionTreeClassifier(labelCol=\"label\", featuresCol=\"features\")\n",
        "model_dt=dt.fit(train_df)\n",
        "# Make predictions on the test data\n",
        "predictions_dt = model_dt.transform(test_df)\n",
        "\n",
        "rf = RandomForestClassifier(labelCol=\"label\", featuresCol=\"features\", numTrees=200)\n",
        "model_rf=rf.fit(train_df)\n",
        "# Make predictions on the test data\n",
        "predictions_rf = model_rf.transform(test_df)\n",
        "\n",
        "nb = NaiveBayes(labelCol=\"label\", featuresCol=\"features\")\n",
        "model_nb=nb.fit(train_df)\n",
        "# Make predictions on the test data\n",
        "predictions_nb = model_nb.transform(test_df)"
      ],
      "metadata": {
        "id": "c5Scnr3jPooa"
      },
      "execution_count": 50,
      "outputs": []
    },
    {
      "cell_type": "code",
      "source": [
        "predictions_lr.show(10)"
      ],
      "metadata": {
        "colab": {
          "base_uri": "https://localhost:8080/"
        },
        "id": "HoTo7RgsQBnD",
        "outputId": "d3b75679-4912-41be-e902-1d0c0cd3d98e"
      },
      "execution_count": 51,
      "outputs": [
        {
          "output_type": "stream",
          "name": "stdout",
          "text": [
            "+--------------------+-----+--------------------+--------------------+----------+\n",
            "|            features|label|       rawPrediction|         probability|prediction|\n",
            "+--------------------+-----+--------------------+--------------------+----------+\n",
            "|(139,[0,1,2,3,9,1...|  1.0|[2.06135385395914...|[0.68381356657025...|       0.0|\n",
            "|(139,[0,1,2,3,9,1...|  0.0|[2.34852228547104...|[0.84062224117351...|       0.0|\n",
            "|(139,[0,1,2,3,9,1...|  1.0|[2.54997761752030...|[0.71668582919977...|       0.0|\n",
            "|(139,[0,1,2,3,9,1...|  0.0|[3.57143120556823...|[0.81812327053488...|       0.0|\n",
            "|(139,[0,1,2,3,9,1...|  0.0|[1.86857798688019...|[0.79750362108599...|       0.0|\n",
            "|(139,[0,1,2,3,9,1...|  0.0|[3.77271417227242...|[0.86776169932519...|       0.0|\n",
            "|(139,[0,1,2,3,9,1...|  1.0|[1.76345036024959...|[0.80212832928762...|       0.0|\n",
            "|(139,[0,1,2,3,9,1...|  0.0|[3.85902551934572...|[0.88132836171923...|       0.0|\n",
            "|(139,[0,1,2,3,9,1...|  0.0|[2.15422281087061...|[0.78573207064292...|       0.0|\n",
            "|(139,[0,1,2,3,9,1...|  0.0|[2.84246315705225...|[0.81815455564456...|       0.0|\n",
            "+--------------------+-----+--------------------+--------------------+----------+\n",
            "only showing top 10 rows\n",
            "\n"
          ]
        }
      ]
    },
    {
      "cell_type": "code",
      "source": [
        "predictions_dt.show(10)"
      ],
      "metadata": {
        "colab": {
          "base_uri": "https://localhost:8080/"
        },
        "id": "VDH0n8k_RpIU",
        "outputId": "f35ad2d8-8ddb-415c-b33f-911a89a66051"
      },
      "execution_count": 52,
      "outputs": [
        {
          "output_type": "stream",
          "name": "stdout",
          "text": [
            "+--------------------+-----+-------------------+--------------------+----------+\n",
            "|            features|label|      rawPrediction|         probability|prediction|\n",
            "+--------------------+-----+-------------------+--------------------+----------+\n",
            "|(139,[0,1,2,3,9,1...|  1.0| [629.0,200.0,16.0]|[0.74437869822485...|       0.0|\n",
            "|(139,[0,1,2,3,9,1...|  0.0| [629.0,200.0,16.0]|[0.74437869822485...|       0.0|\n",
            "|(139,[0,1,2,3,9,1...|  1.0|   [196.0,44.0,2.0]|[0.80991735537190...|       0.0|\n",
            "|(139,[0,1,2,3,9,1...|  0.0|[3725.0,512.0,59.0]|[0.86708566108007...|       0.0|\n",
            "|(139,[0,1,2,3,9,1...|  0.0|[3725.0,512.0,59.0]|[0.86708566108007...|       0.0|\n",
            "|(139,[0,1,2,3,9,1...|  0.0|[3725.0,512.0,59.0]|[0.86708566108007...|       0.0|\n",
            "|(139,[0,1,2,3,9,1...|  1.0|[3725.0,512.0,59.0]|[0.86708566108007...|       0.0|\n",
            "|(139,[0,1,2,3,9,1...|  0.0|[3725.0,512.0,59.0]|[0.86708566108007...|       0.0|\n",
            "|(139,[0,1,2,3,9,1...|  0.0|      [3.0,4.0,0.0]|[0.42857142857142...|       1.0|\n",
            "|(139,[0,1,2,3,9,1...|  0.0| [629.0,200.0,16.0]|[0.74437869822485...|       0.0|\n",
            "+--------------------+-----+-------------------+--------------------+----------+\n",
            "only showing top 10 rows\n",
            "\n"
          ]
        }
      ]
    },
    {
      "cell_type": "code",
      "source": [
        "predictions_rf.show(10)"
      ],
      "metadata": {
        "colab": {
          "base_uri": "https://localhost:8080/"
        },
        "id": "nFm8fUn6S9N1",
        "outputId": "52596d9a-87d5-463e-c318-7ffff7e1b817"
      },
      "execution_count": 53,
      "outputs": [
        {
          "output_type": "stream",
          "name": "stdout",
          "text": [
            "+--------------------+-----+--------------------+--------------------+----------+\n",
            "|            features|label|       rawPrediction|         probability|prediction|\n",
            "+--------------------+-----+--------------------+--------------------+----------+\n",
            "|(139,[0,1,2,3,9,1...|  1.0|[162.118921759061...|[0.81059460879530...|       0.0|\n",
            "|(139,[0,1,2,3,9,1...|  0.0|[164.807423383409...|[0.82403711691704...|       0.0|\n",
            "|(139,[0,1,2,3,9,1...|  1.0|[166.298264529010...|[0.83149132264505...|       0.0|\n",
            "|(139,[0,1,2,3,9,1...|  0.0|[170.232023252775...|[0.85116011626387...|       0.0|\n",
            "|(139,[0,1,2,3,9,1...|  0.0|[169.625147352362...|[0.84812573676181...|       0.0|\n",
            "|(139,[0,1,2,3,9,1...|  0.0|[170.994561099192...|[0.85497280549596...|       0.0|\n",
            "|(139,[0,1,2,3,9,1...|  1.0|[169.497760250533...|[0.84748880125266...|       0.0|\n",
            "|(139,[0,1,2,3,9,1...|  0.0|[169.582077837425...|[0.84791038918712...|       0.0|\n",
            "|(139,[0,1,2,3,9,1...|  0.0|[167.192987557998...|[0.83596493778999...|       0.0|\n",
            "|(139,[0,1,2,3,9,1...|  0.0|[164.362545127369...|[0.82181272563684...|       0.0|\n",
            "+--------------------+-----+--------------------+--------------------+----------+\n",
            "only showing top 10 rows\n",
            "\n"
          ]
        }
      ]
    },
    {
      "cell_type": "code",
      "source": [
        "predictions_nb.show(10)"
      ],
      "metadata": {
        "colab": {
          "base_uri": "https://localhost:8080/"
        },
        "id": "wHlQ9C5pS9zX",
        "outputId": "aa5f098e-0624-41b1-c21d-be66f7dfc56d"
      },
      "execution_count": 54,
      "outputs": [
        {
          "output_type": "stream",
          "name": "stdout",
          "text": [
            "+--------------------+-----+--------------------+--------------------+----------+\n",
            "|            features|label|       rawPrediction|         probability|prediction|\n",
            "+--------------------+-----+--------------------+--------------------+----------+\n",
            "|(139,[0,1,2,3,9,1...|  1.0|[-86.297911111396...|[0.79835611018467...|       0.0|\n",
            "|(139,[0,1,2,3,9,1...|  0.0|[-85.028823534987...|[0.87059652056677...|       0.0|\n",
            "|(139,[0,1,2,3,9,1...|  1.0|[-88.476517768290...|[0.76563169450656...|       0.0|\n",
            "|(139,[0,1,2,3,9,1...|  0.0|[-89.852000689915...|[0.82662320850905...|       0.0|\n",
            "|(139,[0,1,2,3,9,1...|  0.0|[-93.711254866015...|[0.80511483680333...|       0.0|\n",
            "|(139,[0,1,2,3,9,1...|  0.0|[-97.445978964963...|[0.86715458121198...|       0.0|\n",
            "|(139,[0,1,2,3,9,1...|  1.0|[-92.599188227083...|[0.83269989802993...|       0.0|\n",
            "|(139,[0,1,2,3,9,1...|  0.0|[-92.601286246796...|[0.86407867621425...|       0.0|\n",
            "|(139,[0,1,2,3,9,1...|  0.0|[-99.796978163524...|[0.82211663151014...|       0.0|\n",
            "|(139,[0,1,2,3,9,1...|  0.0|[-89.753965443268...|[0.87222459010242...|       0.0|\n",
            "+--------------------+-----+--------------------+--------------------+----------+\n",
            "only showing top 10 rows\n",
            "\n"
          ]
        }
      ]
    },
    {
      "cell_type": "code",
      "source": [
        "from pyspark.ml.evaluation import MulticlassClassificationEvaluator,BinaryClassificationEvaluator\n",
        "# Muti Classification Evaluator for AUC\n",
        "evaluator_auc = BinaryClassificationEvaluator(labelCol=\"label\", rawPredictionCol=\"rawPrediction\", metricName=\"areaUnderROC\")\n",
        "\n",
        "# Multiclass Classification Evaluator for Accuracy, Precision, and Recall\n",
        "evaluator_accuracy = MulticlassClassificationEvaluator(labelCol=\"label\", predictionCol=\"prediction\", metricName=\"accuracy\")\n",
        "evaluator_precision = MulticlassClassificationEvaluator(labelCol=\"label\", predictionCol=\"prediction\", metricName=\"weightedPrecision\")\n",
        "evaluator_recall = MulticlassClassificationEvaluator(labelCol=\"label\", predictionCol=\"prediction\", metricName=\"weightedRecall\")\n",
        "\n",
        "# Calculate metrics for Logistic Regression\n",
        "auc_lr = evaluator_auc.evaluate(predictions_lr)\n",
        "accuracy_lr = evaluator_accuracy.evaluate(predictions_lr)\n",
        "precision_lr = evaluator_precision.evaluate(predictions_lr)\n",
        "recall_lr = evaluator_recall.evaluate(predictions_lr)\n",
        "\n",
        "# Calculate metrics for Decision Tree\n",
        "auc_dt = evaluator_auc.evaluate(predictions_dt)\n",
        "accuracy_dt = evaluator_accuracy.evaluate(predictions_dt)\n",
        "precision_dt = evaluator_precision.evaluate(predictions_dt)\n",
        "recall_dt = evaluator_recall.evaluate(predictions_dt)\n",
        "\n",
        "# Calculate metrics for Random Forest\n",
        "auc_rf = evaluator_auc.evaluate(predictions_rf)\n",
        "accuracy_rf = evaluator_accuracy.evaluate(predictions_rf)\n",
        "precision_rf = evaluator_precision.evaluate(predictions_rf)\n",
        "recall_rf = evaluator_recall.evaluate(predictions_rf)\n",
        "\n",
        "# Calculate metrics for Naive Bayes\n",
        "auc_nb = evaluator_auc.evaluate(predictions_nb)\n",
        "accuracy_nb = evaluator_accuracy.evaluate(predictions_nb)\n",
        "precision_nb = evaluator_precision.evaluate(predictions_nb)\n",
        "recall_nb = evaluator_recall.evaluate(predictions_nb)\n",
        "\n",
        "# Print the results\n",
        "print(f\"Logistic Regression - AUC: {auc_lr}, Accuracy: {accuracy_lr}, Precision: {precision_lr}, Recall: {recall_lr}\")\n",
        "print(f\"Decision Tree - AUC: {auc_dt}, Accuracy: {accuracy_dt}, Precision: {precision_dt}, Recall: {recall_dt}\")\n",
        "print(f\"Random Forest - AUC: {auc_rf}, Accuracy: {accuracy_rf}, Precision: {precision_rf}, Recall: {recall_rf}\")\n",
        "print(f\"naive Bayes - AUC: {auc_nb}, Accuracy: {accuracy_nb}, Precision: {precision_nb}, Recall: {recall_nb}\")\n"
      ],
      "metadata": {
        "colab": {
          "base_uri": "https://localhost:8080/"
        },
        "id": "pNZYJ5FETX4O",
        "outputId": "32a917ff-b182-4182-d13e-7a583e2a063e"
      },
      "execution_count": 55,
      "outputs": [
        {
          "output_type": "stream",
          "name": "stdout",
          "text": [
            "Logistic Regression - AUC: 0.48197835170421305, Accuracy: 0.8502807236431691, Precision: 0.7269129138337787, Recall: 0.8502807236431691\n",
            "Decision Tree - AUC: 0.4726110622047537, Accuracy: 0.8565190268247037, Precision: 0.8204255559207139, Recall: 0.8565190268247036\n",
            "Random Forest - AUC: 0.5943362305183925, Accuracy: 0.852776044915783, Precision: 0.7272269827822055, Recall: 0.852776044915783\n",
            "naive Bayes - AUC: 0.4897213990800097, Accuracy: 0.8521522145976295, Precision: 0.7271486125811233, Recall: 0.8521522145976295\n"
          ]
        }
      ]
    },
    {
      "cell_type": "code",
      "source": [],
      "metadata": {
        "id": "Dm_wOh-NULri"
      },
      "execution_count": null,
      "outputs": []
    }
  ]
}